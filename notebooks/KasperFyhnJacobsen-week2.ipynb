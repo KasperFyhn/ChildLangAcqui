{
 "cells": [
  {
   "cell_type": "markdown",
   "metadata": {},
   "source": [
    "# Week 2\n",
    "### Kasper Fyhn Jacobsen"
   ]
  },
  {
   "cell_type": "markdown",
   "metadata": {},
   "source": [
    "## Question 1: Clark, chapter 1\n",
    "\n",
    "In her first Chapter, Clark introduces some of the issues that researchers in CLA work with, namely the complexity on different levels of language (phonology, morphosyntax, concepts and the ability to make it work in a context) that children must learn in order to become a potent speaker. She puts emphasis on the intertwining together with other aspects of a child's life, like cognitive and social abilities. While introducing the different \"levels\" of language, she gives examples of how data on what children do correct or wrong can imply how children come about acquiring rules as well as how these observations back the process of acquisition. Finally, she presents a short history of CLA research and declares her own stance in the debate: process-oriented, interaction-focused and as much as possible based on empirical data. "
   ]
  },
  {
   "cell_type": "markdown",
   "metadata": {},
   "source": [
    "## Question 2: Pop quiz\n",
    "1. What does \"set()\" do?\n",
    "\n",
    "This function returns a set based on the list passed as argument, i.e. a list of items where each item can occur only once.\n",
    "2. What does the line \"a[0] = a[0].lower()\" do?\n",
    "\n",
    "It returns the first item of the list, namely the string 'The', with all characters in lowercase. \n",
    "3. What does the line \"types = len(set(a))\" do?\n",
    "\n",
    "It assigns to var types the number of types in the list a. It is done in the following sequence: 1) create a set from the list a, thereby having no duplicates of items, 2) get the number items in the set, 3) assign this value to the variable."
   ]
  },
  {
   "cell_type": "markdown",
   "metadata": {},
   "source": [
    "## Question 3\n"
   ]
  },
  {
   "cell_type": "markdown",
   "metadata": {},
   "source": [
    "I figured I would try - like last week - to follow the assignment, but add on some extra stuff, mostly just to play around with some coding.\n",
    "I set out to make something that people on stackoverflow.com actually says than one really should not do: an URL reader which cleans the text from scripts and HTML tags. But I did it anyway, mostly because it is just for practice at this point. Finally, some simple calculations are made and reported. The code ended up being a bit longer than I expected; so just have a glimpse at it. It would be unfair to ask of you to review all of it.\n",
    "\n",
    "The full source code can be seen [here](https://github.com/KasperFyhn/Playing-around/blob/master/src/url_reader.py) on GitHub.\n",
    "\n",
    "P.S.: You might have to follow [these simple instructions](https://stackoverflow.com/questions/42098126/mac-osx-python-ssl-sslerror-ssl-certificate-verify-failed-certificate-verify) to access https pages through Python; I got some errors on my Mac, though not on my Windows desktop. It has something to do with OpenSSL and certificates."
   ]
  },
  {
   "cell_type": "markdown",
   "metadata": {},
   "source": [
    "### Retrieving text from an URL\n",
    "The first part was defining a function which could prompt the user for an URL and handle some errors which can very easily occur when working with user input and even more so with accessing URL's. So this makes up the first lines of code:"
   ]
  },
  {
   "cell_type": "code",
   "execution_count": 1,
   "metadata": {},
   "outputs": [
    {
     "name": "stdout",
     "output_type": "stream",
     "text": [
      "Please, type in/paste a URL and hit Enter.\n",
      "https://www.ordbogen.com\n"
     ]
    }
   ],
   "source": [
    "import urllib.request as URL\n",
    "\n",
    "def URL_to_text():\n",
    "    \"\"\"Prompt the user for a URL and return the raw text retrieved from the URL.\n",
    "    If any error occurs, return -1.\"\"\"\n",
    "   \n",
    "    # get a URL from the user and try to open it\n",
    "    try : \n",
    "        url = input('Please, type in/paste a URL and hit Enter.\\n')\n",
    "        url = URL.urlopen(url).read()\n",
    "        url = url.decode()\n",
    "        return url\n",
    "    # in case of an error, report it and return -1\n",
    "    except (URL.URLError, URL.HTTPError, ValueError) as e:\n",
    "        print(\"A problem was encountered. Please, check the URL.\")\n",
    "        print('Error message:', e)\n",
    "        return -1\n",
    "    \n",
    "# keep prompting the user for an URL until it has been properly retrieved\n",
    "text = -1\n",
    "while text == -1:\n",
    "        text = URL_to_text()"
   ]
  },
  {
   "cell_type": "markdown",
   "metadata": {},
   "source": [
    "### Cleaning the text\n",
    "The next part is cleaning the text. This is done with a combination of built-in functions and some regular expressions:"
   ]
  },
  {
   "cell_type": "code",
   "execution_count": 2,
   "metadata": {},
   "outputs": [],
   "source": [
    "import re\n",
    "from string import punctuation\n",
    "\n",
    "# clean the raw source text\n",
    "text = text.lower() # convert all characters to lower case\n",
    "text = re.sub(r'<head>.*?</head>', '', text, flags=re.DOTALL) # remove the HTML head\n",
    "text = re.sub(r'<script.*?</script>', '', text, flags=re.DOTALL) # remove JavaScript parts \n",
    "text = re.sub(r'<.*?>', ' ', text) # clean from other HTML tags\n",
    "text = re.sub(r'(\\\\t)+', ' ', text) # clean from \"spelled out\" tabs\n",
    "text = re.sub(r'(\\\\n)+', '\\n', text) # clean from \"spelled out\" carriage returns\n",
    "text = ''.join(c for c in text if c not in punctuation) # get rid of punctuation\n",
    "\n",
    "# add to a tokens list the words that consist only of alphabetic chars\n",
    "tokens = [w for w in text.split() if w.isalpha()]"
   ]
  },
  {
   "cell_type": "markdown",
   "metadata": {},
   "source": [
    "With fairly complex web pages nowadays, the regex's will not always clean properly, so I also wanted to give an opportunity to manually clean out some unwanted words. For this, I wrote a fairly complex function which essentially makes a \"kill list\" as chosen by the user. Then, by using another function, each occurrence of the unwanted words in the tokens list are ommitted."
   ]
  },
  {
   "cell_type": "code",
   "execution_count": 3,
   "metadata": {},
   "outputs": [
    {
     "name": "stdout",
     "output_type": "stream",
     "text": [
      "Would you like to check the types and clean out manually?  y/ny\n",
      "This is a run-through of manual cleaning of the text.\n",
      "WARNING: This will generate a long list of words.\n",
      "(0, 'internetforbindelsenbspnbsp')  (1, 'brugerhenvendelsernbspnbsp')  (2, 'retskrivningsordbogen')  (3, 'fortrolighedspolitik')  (4, 'feedbackordbogencom')  (5, 'regnskabsordbøgerne')  (6, 'driftsforstyrrelser')  (7, 'uregelmæssigheder')  (8, 'betydningsordbog')  (9, 'sprogmedarbejder')  (10, 'ordbogenbrugere')  (11, 'specialordbøger')  (12, 'internationale')  (13, 'ejendomsordbog')  (14, 'ordbogsprogram')  (15, 'internetvindue')  (16, 'almensproglige')  (17, 'specialiserede')  (18, 'mudderkastning')  (19, 'afgangsprøver')  (20, 'oversættelser')  (21, 'åbentnbspnbsp')  (22, 'mandagtorsdag')  (23, 'musikbegreber')  (24, 'fremmedordbog')  (25, 'synonymordbog')  (26, 'musikordbogen')  (27, 'betaversionen')  (28, 'offlineadgang')  (29, 'handelsvilkår')  (30, 'emailnbspnbsp')  (31, 'cookiepolitik')  (32, 'skriveordbog')  (33, 'datagrundlag')  (34, 'sprogcentret')  (35, 'registrerede')  (36, 'emailadresse')  (37, 'engelskdansk')  (38, 'universitets')  (39, 'nedenstående')  (40, 'folkeskolens')  (41, 'danskengelsk')  (42, 'åbningstider')  (43, 'adgangskode')  (44, 'redaktionen')  (45, 'biblioteker')  (46, 'sprogcenter')  (47, 'oversættere')  (48, 'nyhedsflade')  (49, 'tilgængelig')  (50, 'blinkenberg')  (51, 'portugisisk')  (52, 'brugerkonto')  (53, 'kommentaren')  (54, 'hjemmesiden')  (55, 'staveordbog')  (56, 'ordbogencom')  (57, 'franskdansk')  (58, 'tilføjelser')  (59, 'nysgerrige')  (60, 'brugernavn')  (61, 'regnskaber')  (62, 'dagtimerne')  (63, 'uddannelse')  (64, 'åbningstid')  (65, 'javascript')  (66, 'opdatering')  (67, 'øjeblikket')  (68, 'politikens')  (69, 'screenshot')  (70, 'muligheder')  (71, 'ordbøgerne')  (72, 'yderligere')  (73, 'downloader')  (74, 'forekomme')  (75, 'supporten')  (76, 'kommentar')  (77, 'sproglige')  (78, 'specifikt')  (79, 'downloads')  (80, 'spørgsmål')  (81, 'eksempler')  (82, 'grammatik')  (83, 'vendinger')  (84, 'upassende')  (85, 'søgninger')  (86, 'netordbog')  (87, 'udarbejde')  (88, 'enkeltord')  (89, 'lejlighed')  (90, 'ombygning')  (91, 'rimordbog')  (92, 'italiensk')  (93, 'supporter')  (94, 'ordbøger')  (95, 'tilføjer')  (96, 'juridisk')  (97, 'tilbyder')  (98, 'søndagen')  (99, 'eksempel')  (100, 'stødende')  (101, 'optimalt')  (102, 'desværre')  (103, 'ordbogen')  (104, 'allerede')  (105, 'generelt')  (106, 'feedback')  (107, 'sekunder')  (108, 'sproglig')  (109, 'afhængig')  (110, 'direkte')  (111, 'oversat')  (112, 'besvare')  (113, 'erhverv')  (114, 'speciel')  (115, 'support')  (116, 'nudansk')  (117, 'søgeord')  (118, 'kemiske')  (119, 'forsøgt')  (120, 'hvorfor')  (121, 'aftenen')  (122, 'kontakt')  (123, 'teknisk')  (124, 'brugere')  (125, 'fungere')  (126, 'dagligt')  (127, 'franske')  (128, 'sikkert')  (129, 'formler')  (130, 'riviera')  (131, 'tidsrum')  (132, 'netværk')  (133, 'arabisk')  (134, 'beskriv')  (135, 'chatten')  (136, 'telefon')  (137, 'ejendom')  (138, 'engelsk')  (139, 'hedder')  (140, 'derfor')  (141, 'online')  (142, 'privat')  (143, 'vidste')  (144, 'plejer')  (145, 'gratis')  (146, 'fransk')  (147, 'sidder')  (148, 'lukket')  (149, 'bruger')  (150, 'chatte')  (151, 'forstå')  (152, 'kemisk')  (153, 'daglig')  (154, 'spansk')  (155, 'logger')  (156, 'gentag')  (157, 'nylige')  (158, 'fredag')  (159, 'høybye')  (160, 'ordbog')  (161, 'søndag')  (162, 'skrive')  (163, 'kræver')  (164, 'svensk')  (165, 'anmeld')  (166, 'logget')  (167, 'random')  (168, 'starte')  (169, 'danske')  (170, 'opret')  (171, 'dansk')  (172, 'hjælp')  (173, 'blive')  (174, 'dette')  (175, 'prøve')  (176, 'flere')  (177, 'under')  (178, 'foran')  (179, 'århus')  (180, 'mange')  (181, 'noget')  (182, 'mener')  (183, 'vores')  (184, 'house')  (185, 'denne')  (186, 'åbent')  (187, 'glemt')  (188, 'eller')  (189, 'store')  (190, 'sende')  (191, 'bruge')  (192, 'faste')  (193, 'føjer')  (194, 'dagen')  (195, 'tiden')  (196, 'sprog')  (197, 'altid')  (198, 'siden')  (199, 'døren')  (200, 'meget')  (201, 'parat')  (202, 'vises')  (203, 'husk')  (204, 'klem')  (205, 'købe')  (206, 'have')  (207, 'skal')  (208, 'over')  (209, 'hvis')  (210, 'klik')  (211, 'tysk')  (212, 'læse')  (213, 'oppe')  (214, 'felt')  (215, 'vælg')  (216, 'klar')  (217, 'lang')  (218, 'lyst')  (219, 'hvad')  (220, 'også')  (221, 'være')  (222, 'ting')  (223, 'ikke')  (224, 'side')  (225, 'åbne')  (226, 'gøre')  (227, 'gang')  (228, 'uden')  (229, 'rime')  (230, 'alle')  (231, 'kode')  (232, 'brug')  (233, 'bedt')  (234, 'hver')  (235, 'mail')  (236, 'chat')  (237, 'mere')  (238, 'dine')  (239, 'sker')  (240, 'link')  (241, 'den')  (242, 'som')  (243, 'søg')  (244, 'jeg')  (245, 'kun')  (246, 'slå')  (247, 'har')  (248, 'ros')  (249, 'ord')  (250, 'vil')  (251, 'vis')  (252, 'ved')  (253, 'tid')  (254, 'dag')  (255, 'men')  (256, 'ris')  (257, 'hav')  (258, 'der')  (259, 'når')  (260, 'hus')  (261, 'kan')  (262, 'køb')  (263, 'min')  (264, 'mig')  (265, 'det')  (266, 'her')  (267, 'nye')  (268, 'med')  (269, 'amp')  (270, 'via')  (271, 'ind')  (272, 'for')  (273, 'fra')  (274, 'log')  (275, 'til')  (276, 'os')  (277, 'kl')  (278, 'du')  (279, 'så')  (280, 'at')  (281, 'en')  (282, 'ud')  (283, 'få')  (284, 'på')  (285, 'se')  (286, 'af')  (287, 'as')  (288, 'nu')  (289, 'op')  (290, 'vi')  (291, 'om')  (292, 'er')  (293, 'og')  (294, 'et')  (295, 'de')  (296, 'i')  \n",
      "Please type in with numbers the words that should be deleted: \"x-y\" for ranges of words, \"x\" for a single word, separate with \",\".\n",
      "Example: 0-5,9,15\n",
      "0-1,277\n"
     ]
    }
   ],
   "source": [
    "def remove_all(iterable, val):\n",
    "    \"\"\"Remove all occurrences of the passed value from the passed iterable\n",
    "    and return it as a list\"\"\"\n",
    "    \n",
    "    return [x for x in iterable if x != val]\n",
    "\n",
    "def manually_clean(tokens):\n",
    "    \"\"\"Give the user an opportunity to clean out undesired words manually and\n",
    "    return a cleaned list of words\"\"\"\n",
    "    \n",
    "    # ask the user for help to clean script \"leftovers\"\n",
    "    print('This is a run-through of manual cleaning of the text.' +\\\n",
    "          '\\nWARNING: This will generate a long list of words.')\n",
    "    raw_types = set(tokens) # get all raw types\n",
    "    raw_types = list(raw_types) # convert back to list ...\n",
    "    raw_types.sort(key=lambda x: len(x), reverse=True) # ... and sort it from long to short\n",
    "    # make a numbered list of the longest words and zip it with var raw_types\n",
    "    numbers = [n for n in range(len(raw_types))]\n",
    "    num_types = list(zip(numbers, raw_types))\n",
    "    # print the words from longest to shortest\n",
    "    for word in num_types:\n",
    "        print(word, end='  ')\n",
    "    # ask the user give indices of the words that are to be \"killed\"\n",
    "    print('\\nPlease type in with numbers the words that should be deleted: \"x-y\" for ranges' +\\\n",
    "          ' of words, \"x\" for a single word, separate with \",\".\\nExample: 0-5,9,15')\n",
    "    kill_indices = input()\n",
    "    # parse the indices and add the word to a \"kill list\"\n",
    "    kill_indices = kill_indices.split(sep=',') # split the input into a list\n",
    "    kill_list = []\n",
    "    for index in kill_indices: # for each item in the list\n",
    "        try:\n",
    "            if '-' in index: # if a range is given ...\n",
    "                rng = index.split(sep='-')\n",
    "                lo = int(rng[0])\n",
    "                hi = int(rng[1])\n",
    "                for i in range(lo, hi): # ... add all words in the given range\n",
    "                    kill_list.append(raw_types[i])\n",
    "            elif index.isdigit(): # if just an index is given ...\n",
    "                i = int(index)\n",
    "                kill_list.append(raw_types[i]) #... just add the word\n",
    "            else:\n",
    "                print('Unable to parse:', index) # report in case of a nonsensical item\n",
    "        except:\n",
    "            print('Unable to parse:', index) # try to continue if an item causes an error\n",
    "    # when the kill list is completed, remove all occurrences of words in the kill list\n",
    "    # from var tokens\n",
    "    for word in kill_list:\n",
    "        tokens = remove_all(tokens, word)\n",
    "    # return the cleaned list\n",
    "    return tokens\n",
    "\n",
    "# ask the user if s/he would like to clean the rest of the text manually\n",
    "if input('Would you like to check the types and clean out manually?  y/n') == 'y':\n",
    "    tokens = manually_clean(tokens)"
   ]
  },
  {
   "cell_type": "markdown",
   "metadata": {},
   "source": [
    "### Reporting results\n",
    "Finally, the program does some simple calculations similar to the ones in Notebook 2 and 3."
   ]
  },
  {
   "cell_type": "code",
   "execution_count": 4,
   "metadata": {},
   "outputs": [
    {
     "name": "stdout",
     "output_type": "stream",
     "text": [
      "\n",
      "Tokens: 702\n",
      "Types: 295\n",
      "Type-to-token ratio: 0.4202279202279202\n",
      "The 10 most frequent words:\n",
      "[('du', 29), ('at', 16), ('og', 14), ('dansk', 13), ('eller', 12), ('til', 12), ('bruger', 11), ('har', 11), ('for', 10), ('er', 10)]\n",
      "\n",
      "Do you want to see the types? y/n   y\n",
      "{'betydningsordbog', 'afgangsprøver', 'hedder', 'derfor', 'opret', 'forekomme', 'online', 'adgangskode', 'nysgerrige', 'den', 'brugernavn', 'redaktionen', 'oversættelser', 'husk', 'skriveordbog', 'dansk', 'ordbøger', 'direkte', 'privat', 'klem', 'ordbogenbrugere', 'regnskaber', 'som', 'hjælp', 'dagtimerne', 'vidste', 'købe', 'have', 'åbentnbspnbsp', 'sprogmedarbejder', 'supporten', 'oversat', 'søg', 'besvare', 'skal', 'brugerhenvendelsernbspnbsp', 'uddannelse', 'biblioteker', 'over', 'blive', 'kommentar', 'jeg', 'dette', 'hvis', 'kun', 'erhverv', 'plejer', 'mandagtorsdag', 'klik', 'musikbegreber', 'tysk', 'sproglige', 'slå', 'feedbackordbogencom', 'speciel', 'har', 'support', 'gratis', 'fremmedordbog', 'læse', 'ros', 'fransk', 'sidder', 'ord', 'regnskabsordbøgerne', 'prøve', 'oppe', 'lukket', 'vil', 'driftsforstyrrelser', 'datagrundlag', 'vis', 'sprogcenter', 'specifikt', 'felt', 'sprogcentret', 'synonymordbog', 'vælg', 'ved', 'tid', 'internationale', 'flere', 'downloads', 'bruger', 'klar', 'under', 'foran', 'retskrivningsordbogen', 'åbningstid', 'ejendomsordbog', 'århus', 'mange', 'lang', 'chatte', 'lyst', 'dag', 'nudansk', 'forstå', 'hvad', 'kemisk', 'også', 'være', 'spørgsmål', 'ting', 'ikke', 'noget', 'musikordbogen', 'men', 'ordbogsprogram', 'ris', 'mener', 'registrerede', 'emailadresse', 'os', 'søgeord', 'hav', 'daglig', 'vores', 'side', 'house', 'der', 'kemiske', 'spansk', 'eksempler', 'logger', 'grammatik', 'forsøgt', 'engelskdansk', 'vendinger', 'når', 'denne', 'javascript', 'åbent', 'gentag', 'nylige', 'universitets', 'oversættere', 'hus', 'hvorfor', 'upassende', 'åbne', 'nyhedsflade', 'fredag', 'søgninger', 'du', 'gøre', 'tilføjer', 'opdatering', 'betaversionen', 'fortrolighedspolitik', 'høybye', 'så', 'aftenen', 'gang', 'øjeblikket', 'tilgængelig', 'offlineadgang', 'kan', 'uden', 'kontakt', 'ordbog', 'glemt', 'køb', 'min', 'netordbog', 'rime', 'internetvindue', 'mig', 'alle', 'eller', 'det', 'juridisk', 'teknisk', 'brugere', 'politikens', 'fungere', 'udarbejde', 'at', 'i', 'blinkenberg', 'søndag', 'her', 'dagligt', 'nye', 'handelsvilkår', 'enkeltord', 'lejlighed', 'kode', 'skrive', 'almensproglige', 'tilbyder', 'en', 'søndagen', 'eksempel', 'ud', 'franske', 'screenshot', 'stødende', 'nedenstående', 'kræver', 'portugisisk', 'sikkert', 'med', 'store', 'formler', 'få', 'muligheder', 'folkeskolens', 'riviera', 'på', 'ombygning', 'brug', 'bedt', 'sende', 'hver', 'bruge', 'emailnbspnbsp', 'se', 'faste', 'af', 'optimalt', 'desværre', 'amp', 'via', 'føjer', 'tidsrum', 'ordbogen', 'allerede', 'netværk', 'dagen', 'tiden', 'specialiserede', 'svensk', 'as', 'mudderkastning', 'brugerkonto', 'nu', 'anmeld', 'kommentaren', 'uregelmæssigheder', 'mail', 'hjemmesiden', 'ind', 'staveordbog', 'chat', 'cookiepolitik', 'ordbøgerne', 'generelt', 'feedback', 'mere', 'sprog', 'rimordbog', 'op', 'arabisk', 'yderligere', 'altid', 'italiensk', 'danskengelsk', 'dine', 'vi', 'siden', 'for', 'døren', 'downloader', 'beskriv', 'ordbogencom', 'logget', 'om', 'åbningstider', 'specialordbøger', 'meget', 'chatten', 'er', 'parat', 'sker', 'sekunder', 'telefon', 'fra', 'vises', 'og', 'random', 'sproglig', 'ejendom', 'log', 'franskdansk', 'link', 'supporter', 'engelsk', 'starte', 'et', 'danske', 'tilføjelser', 'til', 'de', 'afhængig'}\n"
     ]
    }
   ],
   "source": [
    "from collections import Counter\n",
    "\n",
    "# make a set of types       \n",
    "types = set(tokens)\n",
    "\n",
    "# calculate the frequency of each type with a Counter object\n",
    "freqs = Counter(tokens)\n",
    "\n",
    "# calculate type-to-token ratio\n",
    "ttr = len(types)/len(tokens)\n",
    "\n",
    "# report results\n",
    "print('\\nTokens:', len(tokens))\n",
    "print('Types:', len(types))\n",
    "print('Type-to-token ratio:', ttr)\n",
    "print('The 10 most frequent words:')\n",
    "print(freqs.most_common(10))\n",
    "\n",
    "# prompt the user to choose if the types should be printed\n",
    "if input('\\nDo you want to see the types? y/n   ') == 'y':\n",
    "    print(types)"
   ]
  },
  {
   "cell_type": "code",
   "execution_count": null,
   "metadata": {},
   "outputs": [],
   "source": []
  }
 ],
 "metadata": {
  "kernelspec": {
   "display_name": "Python 3",
   "language": "python",
   "name": "python3"
  },
  "language_info": {
   "codemirror_mode": {
    "name": "ipython",
    "version": 3
   },
   "file_extension": ".py",
   "mimetype": "text/x-python",
   "name": "python",
   "nbconvert_exporter": "python",
   "pygments_lexer": "ipython3",
   "version": "3.6.5"
  }
 },
 "nbformat": 4,
 "nbformat_minor": 2
}
