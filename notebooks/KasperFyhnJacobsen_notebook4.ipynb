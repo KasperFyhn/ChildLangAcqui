{
 "cells": [
  {
   "cell_type": "markdown",
   "metadata": {},
   "source": [
    "# Notebook 4: reading files\n",
    "### Kasper Fyhn Jacobsen"
   ]
  },
  {
   "cell_type": "markdown",
   "metadata": {},
   "source": [
    "This is the simple version of an interactive program to get some stats on text files. The source code is [here](https://github.com/KasperFyhn/Playing-around/blob/master/src/simple_text_stats.py) on GitHub.\n",
    "\n",
    "I caught an error when trying to read the contents of the Austen text, though only on my desktop computer running Windows and not on my Mac. Still haven't figured out exactly why, but it seemed that the issue was with the character encoding; hence, the `text = open(file, encoding='utf-8').read()`\n",
    "\n",
    "The actual functionality boils down to these two functions."
   ]
  },
  {
   "cell_type": "code",
   "execution_count": 2,
   "metadata": {},
   "outputs": [],
   "source": [
    "from string import punctuation\n",
    "from collections import Counter\n",
    "import os\n",
    "\n",
    "def file_to_text(file):\n",
    "    \"\"\"Try to open a .txt og .rtf file and return the raw text. If any \n",
    "    errors occurs, return -1.\"\"\"\n",
    "\n",
    "    # get a pathname to a file an try to open it\n",
    "    try:\n",
    "        text = open(file, encoding='utf-8').read()\n",
    "        return text\n",
    "    # in case of an error, report it and return -1\n",
    "    except IOError as e:\n",
    "        print(\"A problem was encountered. Please, check the pathname.\")\n",
    "        print('Error message:', e)\n",
    "        return -1\n",
    "\n",
    "def text_stats(text):\n",
    "    \"\"\"Prints number of tokens and types, type-to-token ratio and\n",
    "    the top 10 most frequent words of a given text\"\"\"\n",
    "    \n",
    "    # clean the raw text\n",
    "    text = ''.join(c for c in text if c not in punctuation) # get rid of punctuation\n",
    "    text = text.lower() # convert all characters to lower case    \n",
    "    # add to a tokens list the words that consist only of alphabetic chars\n",
    "    tokens = [w for w in text.split() if w.isalpha()]   \n",
    "    # make a set of types\n",
    "    types = set(tokens)   \n",
    "    # calculate the frequency of each type with a Counter object\n",
    "    freqs = Counter(tokens)    \n",
    "    # calculate type-to-token ratio\n",
    "    ttr = len(types)/len(tokens)    \n",
    "    # report results\n",
    "    print('Tokens:', len(tokens))\n",
    "    print('Types:', len(types))\n",
    "    print('Type-to-token ratio:', ttr)\n",
    "    print('The 10 most frequent words:')\n",
    "    print(freqs.most_common(10))"
   ]
  },
  {
   "cell_type": "markdown",
   "metadata": {},
   "source": [
    "Rather than having to change code for every new text, I made a small piece of code which imitates a UNIX command line interface, though only with commands as stated in the print statements.\n",
    "\n",
    "I'm not sure if there's a prettier way to make this. In e.g. Java, the branching would be done with a switch statement, rather than several `elif`'s, which is easier to read, but it's mainly aesthetic."
   ]
  },
  {
   "cell_type": "code",
   "execution_count": 3,
   "metadata": {},
   "outputs": [
    {
     "name": "stdout",
     "output_type": "stream",
     "text": [
      "Please, navigate to your text file by using the commands:\n",
      "Change directory: cd <pathame> (\"..\" to go up)\n",
      "List entries in directory: ls\n",
      "Load file (from current dir or abs path): load <filename>\n",
      "Quit: quit\n",
      "C:\\Users\\Kasper Fyhn Jacobsen\\Dropbox\\Child Language Acquisition\\Notebooks: cd ..\\..\\..\n",
      "C:\\Users\\Kasper Fyhn Jacobsen: cd Desktop\n",
      "C:\\Users\\Kasper Fyhn Jacobsen\\Desktop: ls\n",
      "Austen-Pride.txt\n",
      "desktop.ini\n",
      "test.txt\n",
      "C:\\Users\\Kasper Fyhn Jacobsen\\Desktop: load test.txt\n",
      "Tokens: 7\n",
      "Types: 6\n",
      "Type-to-token ratio: 0.8571428571428571\n",
      "The 10 most frequent words:\n",
      "[('hello', 2), ('this', 1), ('is', 1), ('a', 1), ('simple', 1), ('test', 1)]\n",
      "C:\\Users\\Kasper Fyhn Jacobsen\\Desktop: load Austen-Pride.txt\n",
      "Tokens: 117256\n",
      "Types: 6572\n",
      "Type-to-token ratio: 0.05604830456437197\n",
      "The 10 most frequent words:\n",
      "[('the', 4306), ('to', 4109), ('of', 3587), ('and', 3434), ('her', 2190), ('a', 1926), ('in', 1847), ('was', 1834), ('i', 1750), ('she', 1682)]\n",
      "C:\\Users\\Kasper Fyhn Jacobsen\\Desktop: quit\n"
     ]
    }
   ],
   "source": [
    "# have the user find a text file by navigating through the file system\n",
    "# as in a UNIX command line interface\n",
    "print('Please, navigate to your text file by using the commands:')\n",
    "print('Change directory: cd <pathame> (\"..\" to go up)')\n",
    "print('List entries in directory: ls')\n",
    "print('Load file (from current dir or abs path): load <filename>')\n",
    "print('Quit: quit')\n",
    "# run infinite loop\n",
    "while True:\n",
    "    try:\n",
    "        command = input(os.getcwd() + ': ').split() # get command\n",
    "        if command[0] == 'cd': # change directory\n",
    "            os.chdir(command[1])\n",
    "        elif command[0] == 'ls': # list items in dir\n",
    "            for entry in os.scandir():\n",
    "                print(entry.name)\n",
    "        elif command[0] == 'load': # load file\n",
    "            text_path = ' '.join(command[1:]) # join in case of spaces\n",
    "            text = file_to_text(text_path)\n",
    "            if not text == -1: \n",
    "                text_stats(text)\n",
    "        elif command[0] == 'quit':\n",
    "            break # break the loop and end the program\n",
    "        else:\n",
    "            print('Command not recognized')\n",
    "    except:\n",
    "        print('An error occured in the command')"
   ]
  },
  {
   "cell_type": "code",
   "execution_count": null,
   "metadata": {},
   "outputs": [],
   "source": []
  }
 ],
 "metadata": {
  "kernelspec": {
   "display_name": "Python 3",
   "language": "python",
   "name": "python3"
  },
  "language_info": {
   "codemirror_mode": {
    "name": "ipython",
    "version": 3
   },
   "file_extension": ".py",
   "mimetype": "text/x-python",
   "name": "python",
   "nbconvert_exporter": "python",
   "pygments_lexer": "ipython3",
   "version": "3.6.5"
  }
 },
 "nbformat": 4,
 "nbformat_minor": 2
}
