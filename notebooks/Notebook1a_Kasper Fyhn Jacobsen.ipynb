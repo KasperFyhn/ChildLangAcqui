{
 "cells": [
  {
   "cell_type": "markdown",
   "metadata": {},
   "source": [
    "# Assignment 1\n",
    "Kasper Fyhn Jacobsen"
   ]
  },
  {
   "cell_type": "markdown",
   "metadata": {},
   "source": [
    "## Answers to the pop quiz\n",
    "### 1)\n",
    "The output of the first block of code is \"3\" because the variables a and b are assigned with numeral values. When the assignment to c is done with \"a + b\", the values assigned to a and b are added together (in the arithmetic sense), resulting in 3.\n",
    "In the other block of code, the output is \"12\" because the variables a and b are assigned with strings. When the assignment to c is done with \"a + b\", the values assigned to a and b are concatenated, resulting in \"12\".\n",
    "\n",
    "### 2)\n",
    "1. len() returns the length of the given list, i.e. the number of items in the list.\n",
    "2. print() prints the string passed as parameter to the current outputstream.\n",
    "3. str() returns a given number (probably also other data types) as a string. This function is needed in the given print statement to convert b to a string in order for it to be concatenated to the other string because two different data types cannot simply be \"added together\". The concatenated string is then passed to the function and, finally, printed.\n",
    "\n",
    "Another way to fix this problem (at least in this case) is simply to pass the number as a second parameter like in the code below."
   ]
  },
  {
   "cell_type": "code",
   "execution_count": 1,
   "metadata": {},
   "outputs": [
    {
     "name": "stdout",
     "output_type": "stream",
     "text": [
      "The number of words in this sentence is: 5\n"
     ]
    }
   ],
   "source": [
    "a = ['The', 'farmer', 'killed', 'the', 'duckling']\n",
    "b = len(a)\n",
    "print('The number of words in this sentence is:', b)"
   ]
  },
  {
   "cell_type": "markdown",
   "metadata": {},
   "source": [
    "## Playing around with stuff"
   ]
  },
  {
   "cell_type": "markdown",
   "metadata": {},
   "source": [
    "A classic challenge when it comes to variable assignment is the fibonacci sequence. Python is good here since - apparently - it has simultaneous assignment of variables. Of course, there is also a solution where you do it with a recursive function instead."
   ]
  },
  {
   "cell_type": "code",
   "execution_count": 16,
   "metadata": {},
   "outputs": [
    {
     "name": "stdout",
     "output_type": "stream",
     "text": [
      "Hello, for how far up would you like to see the fibonacci sequence?\n",
      "10000\n",
      "1 1 2 3 5 8 13 21 34 55 89 144 233 377 610 987 1597 2584 4181 6765 \n",
      "1 1 2 3 5 8 13 21 34 55 89 144 233 377 610 987 1597 2584 4181 6765 "
     ]
    }
   ],
   "source": [
    "''' This program prints the fibonacci sequence up to a given upper bound '''\n",
    "\n",
    "# get the user's input as the upper bound of the sequence\n",
    "upper_bound = int(input(\"Hello, for how far up would you like to see the fibonacci sequence?\\n\"))\n",
    "\n",
    "# print the fibonacci sequence based on an algorhithm where assignments happen only one at a time\n",
    "previous = 0\n",
    "current = 1\n",
    "while current < upper_bound :\n",
    "    print(current, end=' ')\n",
    "    next = current + previous # make var next as a placeholder\n",
    "    previous = current # update var previous to the number just printed\n",
    "    current = next # update var current to the next in the sequence\n",
    "    \n",
    "print() # next line\n",
    "\n",
    "# print the fibonacci based on algorhithm where assignments can happen two at a time\n",
    "previous = 0\n",
    "current = 1\n",
    "while current < upper_bound :\n",
    "    print(current, end=' ')\n",
    "    previous, current = current, current + previous # update the vars without need for a placeholder"
   ]
  },
  {
   "cell_type": "markdown",
   "metadata": {},
   "source": [
    "And, then, just a small program to play a bit around with Python."
   ]
  },
  {
   "cell_type": "code",
   "execution_count": 17,
   "metadata": {},
   "outputs": [
    {
     "name": "stdout",
     "output_type": "stream",
     "text": [
      "Please, input a line of text and press Enter\n",
      "just testing this useless program\n",
      "Now, please give a lower and upper bound of an interval in the range 1 to 5\n",
      "Lower bound: 2\n",
      "Upper bound: 4\n",
      "These are the words from your line in the interval you gave:\n",
      "testing this useless "
     ]
    }
   ],
   "source": [
    "''' A small program to print words from a given line of input in a given interval (inclusive) '''\n",
    "\n",
    "# get input from the user and split the input into a list\n",
    "text = input(\"Please, input a line of text and press Enter\\n\")\n",
    "text_list = text.split()\n",
    "\n",
    "# get lower and upper bound of an interval\n",
    "print(\"Now, please give a lower and upper bound of an interval in the range 1 to \" + str(len(text_list)))\n",
    "lower = int(input(\"Lower bound: \"))\n",
    "upper = int(input(\"Upper bound: \"))\n",
    "\n",
    "# check if the given interval matches with the possible range of the list\n",
    "if lower < 1 or upper > len(text_list) or upper < lower :\n",
    "    print(\"You failed a simple task. I'll just print the whole thing!\") \n",
    "    print(text) # print the original line\n",
    "else :\n",
    "    print(\"These are the words from your line in the interval you gave:\")\n",
    "    for i in range(lower - 1, upper) : # print the words in the given interval\n",
    "        print(text_list[i], end=' ')"
   ]
  },
  {
   "cell_type": "code",
   "execution_count": null,
   "metadata": {},
   "outputs": [],
   "source": []
  }
 ],
 "metadata": {
  "kernelspec": {
   "display_name": "Python 3",
   "language": "python",
   "name": "python3"
  },
  "language_info": {
   "codemirror_mode": {
    "name": "ipython",
    "version": 3
   },
   "file_extension": ".py",
   "mimetype": "text/x-python",
   "name": "python",
   "nbconvert_exporter": "python",
   "pygments_lexer": "ipython3",
   "version": "3.6.5"
  }
 },
 "nbformat": 4,
 "nbformat_minor": 2
}
