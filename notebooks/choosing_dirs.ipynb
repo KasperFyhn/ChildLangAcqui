{
 "cells": [
  {
   "cell_type": "markdown",
   "metadata": {},
   "source": [
    "# The verbose version\n",
    "... but probably more readable. To change the number of paths, you would have to change a lot of things, though. This is actually pretty bad code."
   ]
  },
  {
   "cell_type": "code",
   "execution_count": null,
   "metadata": {},
   "outputs": [],
   "source": [
    "import os\n",
    "\n",
    "# state all paths that are relevant to you\n",
    "desktop_path = 'C:/Users/yourname/Documents/CLA/Austen'\n",
    "laptop_path = 'C:/Users/yourname/Desktop/Austen'\n",
    "mac_path = '/Users/yourname/Dropbox/Data/Austen'\n",
    "\n",
    "# present options and get the choice\n",
    "print('Choose a path for your directory among these:', '1: ' + desktop_path,\n",
    "      '2: ' + laptop_path, '3: ' + mac_path, sep='\\n')\n",
    "choice = int(input('Number: '))\n",
    "\n",
    "# set the variable mypath to whateveer you chose\n",
    "if choice == 1:\n",
    "    mypath = desktop_path\n",
    "elif choice == 2:\n",
    "    mypath = laptop_path\n",
    "elif choice == 3:\n",
    "    mypath = mac_path\n",
    "\n",
    "os.chdir(mypath)\n",
    "\n",
    "# the rest of the script ..."
   ]
  },
  {
   "cell_type": "markdown",
   "metadata": {},
   "source": [
    "# The less verbose version\n",
    "... but probably more cryptic to unfamiliar eyes. However, it is much easier to add another path in case you will need that; simply add it to the list and the rest of the code will work with it."
   ]
  },
  {
   "cell_type": "code",
   "execution_count": null,
   "metadata": {},
   "outputs": [],
   "source": [
    "import os\n",
    "\n",
    "# list of paths\n",
    "paths = ['C:/Users/yourname/Documents/CLA/Brown/Adam', \n",
    "         'C:/Users/yourname/Documents/CLA/Brown/Eve', \n",
    "         'C:/Users/yourname/Documents/CLA/Brown/Sarah']\n",
    "\n",
    "# present options and get a choice\n",
    "print('Choose your directory by inputting the corresponding number:',\n",
    "      *[str(paths.index(item)) + ' ' + item for item in paths], sep='\\n', end='')\n",
    "index = int(input())\n",
    "\n",
    "# set path\n",
    "mypath = paths[index]\n",
    "\n",
    "# the rest of the script ..."
   ]
  }
 ],
 "metadata": {
  "kernelspec": {
   "display_name": "Python 3",
   "language": "python",
   "name": "python3"
  },
  "language_info": {
   "codemirror_mode": {
    "name": "ipython",
    "version": 3
   },
   "file_extension": ".py",
   "mimetype": "text/x-python",
   "name": "python",
   "nbconvert_exporter": "python",
   "pygments_lexer": "ipython3",
   "version": "3.6.5"
  }
 },
 "nbformat": 4,
 "nbformat_minor": 2
}
