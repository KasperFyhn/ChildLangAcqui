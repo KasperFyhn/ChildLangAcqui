{
 "cells": [
  {
   "cell_type": "markdown",
   "metadata": {},
   "source": [
    "# Assignment 8: Modules and functions\n",
    "### Kasper Fyhn Jacobsen\n",
    "\n",
    "I guess you have already seen this from me, but I'll do it shortly and efficiently. As always, the actual module can be seen [here](https://github.com/KasperFyhn/ChildLangAcqui/blob/master/src/childes_transcripts.py) on GitHub in case you are interested.\n",
    "\n",
    "So far, I have looked at things from longitudinal studies. But what if we want to compare different children, I thought to myself. I found the Evans data which hold transcripts of dyads.\n",
    "\n",
    "Also so far, most of the methods in my module have relied on having a parameter which gets passed something like 'CHI' or 'MOT'. But, I thought, what if it's names instead and these differ from transcript to transcript, like in these dyads. So I thought up something fairly clever which was actually quite easy based on the methods that I had made already. Good on me with the generalizing programming, I guess.\n",
    "\n",
    "I'll show you what I mean. First, I've defined a method within the `Transcript` class which returns a list of the speakers with the role \"Target_Child\" as this\n",
    "```python\n",
    "def children(self):\n",
    "    '''Return a list of the target child(ren) in the transcript.'''\n",
    "        \n",
    "    children = [entry['name'] for entry in self.speaker_details().values()\n",
    "                if entry['role'] == 'Target_Child']\n",
    "        \n",
    "    return children\n",
    "        ```\n",
    "        \n",
    "Then, we'll load all the transcripts as usual, and we can print the list of children as a demonstration:"
   ]
  },
  {
   "cell_type": "code",
   "execution_count": 7,
   "metadata": {},
   "outputs": [
    {
     "name": "stdout",
     "output_type": "stream",
     "text": [
      "['STE', 'DEV'] ['MEG', 'KER'] ['MEL', 'AMB'] ['CHE', 'JES'] ['JER', 'KEL'] ['STA', 'KRI'] ['JOA', 'MAR'] ['MAT', 'SAR'] ['JUL', 'IVA'] ['LIN', 'TER'] ['TED', 'RYL'] ['NIK', 'BEC'] ['CHR', 'ADA'] ['ERI', 'AME'] ['SIM', 'ADA'] ['NAT', 'CRA'] ['SHA', 'PAT'] ['CHR', 'BRU'] ['JAR', 'MOR'] ['JAC', 'JON'] ['GIL', 'COL'] ['JOH', 'TRE']\n"
     ]
    }
   ],
   "source": [
    "import os\n",
    "os.chdir(r'C:\\Users\\Kasper Fyhn Jacobsen\\python-projects\\ChildLangAcqui\\src')\n",
    "import childes_transcripts as ts\n",
    "\n",
    "folder = r'C:\\Users\\Kasper Fyhn Jacobsen\\Dropbox\\Child Language Acquisition\\Data\\Evans'\n",
    "transcripts = ts.load_all_from_dir(folder)\n",
    "\n",
    "children = [trn.children() for trn in transcripts]\n",
    "print(*children)"
   ]
  },
  {
   "cell_type": "markdown",
   "metadata": {},
   "source": [
    "And now, we can do what we have usually done so far, e.g. TTR or frequency of words. The core of it all is that this `children()` method also works well when making data frames for instance. In the code below, I also call some other methods and functions which you have seen before."
   ]
  },
  {
   "cell_type": "code",
   "execution_count": 11,
   "metadata": {},
   "outputs": [
    {
     "data": {
      "text/html": [
       "<div>\n",
       "<style scoped>\n",
       "    .dataframe tbody tr th:only-of-type {\n",
       "        vertical-align: middle;\n",
       "    }\n",
       "\n",
       "    .dataframe tbody tr th {\n",
       "        vertical-align: top;\n",
       "    }\n",
       "\n",
       "    .dataframe thead th {\n",
       "        text-align: right;\n",
       "    }\n",
       "</style>\n",
       "<table border=\"1\" class=\"dataframe\">\n",
       "  <thead>\n",
       "    <tr style=\"text-align: right;\">\n",
       "      <th></th>\n",
       "      <th>name</th>\n",
       "      <th>age</th>\n",
       "      <th>ttr</th>\n",
       "    </tr>\n",
       "  </thead>\n",
       "  <tbody>\n",
       "    <tr>\n",
       "      <th>0</th>\n",
       "      <td>STE</td>\n",
       "      <td>85.37</td>\n",
       "      <td>0.409524</td>\n",
       "    </tr>\n",
       "    <tr>\n",
       "      <th>1</th>\n",
       "      <td>DEV</td>\n",
       "      <td>97.40</td>\n",
       "      <td>0.524691</td>\n",
       "    </tr>\n",
       "    <tr>\n",
       "      <th>2</th>\n",
       "      <td>MEG</td>\n",
       "      <td>87.40</td>\n",
       "      <td>0.387234</td>\n",
       "    </tr>\n",
       "    <tr>\n",
       "      <th>3</th>\n",
       "      <td>KER</td>\n",
       "      <td>88.37</td>\n",
       "      <td>0.308738</td>\n",
       "    </tr>\n",
       "    <tr>\n",
       "      <th>4</th>\n",
       "      <td>MEL</td>\n",
       "      <td>79.77</td>\n",
       "      <td>0.373786</td>\n",
       "    </tr>\n",
       "    <tr>\n",
       "      <th>5</th>\n",
       "      <td>AMB</td>\n",
       "      <td>86.70</td>\n",
       "      <td>0.409972</td>\n",
       "    </tr>\n",
       "    <tr>\n",
       "      <th>6</th>\n",
       "      <td>CHE</td>\n",
       "      <td>81.70</td>\n",
       "      <td>0.371336</td>\n",
       "    </tr>\n",
       "    <tr>\n",
       "      <th>7</th>\n",
       "      <td>JES</td>\n",
       "      <td>85.20</td>\n",
       "      <td>0.383721</td>\n",
       "    </tr>\n",
       "    <tr>\n",
       "      <th>8</th>\n",
       "      <td>JER</td>\n",
       "      <td>84.00</td>\n",
       "      <td>0.421488</td>\n",
       "    </tr>\n",
       "    <tr>\n",
       "      <th>9</th>\n",
       "      <td>KEL</td>\n",
       "      <td>84.00</td>\n",
       "      <td>0.352144</td>\n",
       "    </tr>\n",
       "  </tbody>\n",
       "</table>\n",
       "</div>"
      ],
      "text/plain": [
       "  name    age       ttr\n",
       "0  STE  85.37  0.409524\n",
       "1  DEV  97.40  0.524691\n",
       "2  MEG  87.40  0.387234\n",
       "3  KER  88.37  0.308738\n",
       "4  MEL  79.77  0.373786\n",
       "5  AMB  86.70  0.409972\n",
       "6  CHE  81.70  0.371336\n",
       "7  JES  85.20  0.383721\n",
       "8  JER  84.00  0.421488\n",
       "9  KEL  84.00  0.352144"
      ]
     },
     "execution_count": 11,
     "metadata": {},
     "output_type": "execute_result"
    }
   ],
   "source": [
    "import pandas as pd\n",
    "\n",
    "# go over each child in each transcript and make tuples with some data\n",
    "all_ttrs = []\n",
    "for transcript in transcripts: \n",
    "    for child in transcript.children():\n",
    "        name = child\n",
    "        age = ts.age_in_months(transcript.speaker_details()[child]['age'])\n",
    "        ttr = transcript.ttr(speakers=child)\n",
    "        all_ttrs.append((name, age, ttr))\n",
    "\n",
    "# make a data frame from the list of tuples\n",
    "data = pd.DataFrame(all_ttrs, columns=['name', 'age', 'ttr'])\n",
    "data.head(10)"
   ]
  },
  {
   "cell_type": "markdown",
   "metadata": {},
   "source": [
    "And, in case you want to see how all the data is scattered:"
   ]
  },
  {
   "cell_type": "code",
   "execution_count": 12,
   "metadata": {},
   "outputs": [
    {
     "data": {
      "text/plain": [
       "<matplotlib.axes._subplots.AxesSubplot at 0x25ef602a7f0>"
      ]
     },
     "execution_count": 12,
     "metadata": {},
     "output_type": "execute_result"
    },
    {
     "data": {
      "image/png": "[encoded data removed]",
      "text/plain": [
       "<Figure size 432x288 with 1 Axes>"
      ]
     },
     "metadata": {
      "needs_background": "light"
     },
     "output_type": "display_data"
    }
   ],
   "source": [
    "import seaborn as sns\n",
    "\n",
    "sns.scatterplot(x='age', y='ttr', data=data)"
   ]
  },
  {
   "cell_type": "code",
   "execution_count": null,
   "metadata": {},
   "outputs": [],
   "source": []
  }
 ],
 "metadata": {
  "kernelspec": {
   "display_name": "Python 3",
   "language": "python",
   "name": "python3"
  },
  "language_info": {
   "codemirror_mode": {
    "name": "ipython",
    "version": 3
   },
   "file_extension": ".py",
   "mimetype": "text/x-python",
   "name": "python",
   "nbconvert_exporter": "python",
   "pygments_lexer": "ipython3",
   "version": "3.7.0"
  }
 },
 "nbformat": 4,
 "nbformat_minor": 2
}
